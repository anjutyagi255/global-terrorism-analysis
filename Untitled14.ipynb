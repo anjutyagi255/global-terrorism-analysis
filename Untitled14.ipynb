{
  "nbformat": 4,
  "nbformat_minor": 0,
  "metadata": {
    "colab": {
      "name": "Untitled14.ipynb",
      "provenance": [],
      "include_colab_link": true
    },
    "kernelspec": {
      "name": "python3",
      "display_name": "Python 3"
    },
    "language_info": {
      "name": "python"
    }
  },
  "cells": [
    {
      "cell_type": "markdown",
      "metadata": {
        "id": "view-in-github",
        "colab_type": "text"
      },
      "source": [
        "<a href=\"https://colab.research.google.com/github/anjutyagi255/global-terrorism-analysis/blob/main/Untitled14.ipynb\" target=\"_parent\"><img src=\"https://colab.research.google.com/assets/colab-badge.svg\" alt=\"Open In Colab\"/></a>"
      ]
    },
    {
      "cell_type": "markdown",
      "source": [
        "# The Global Terrorism Database (GTD) is an open-source database including information on terrorist attacks around the world from 1970 through 2017. The GTD includes systematic data on domestic as well as international terrorist incidents that have occurred during this time period and now includes more than 180,000 attacks. The database is maintained by researchers at the National Consortium for the Study of Terrorism and Responses to Terrorism (START), headquartered at the University of Maryland."
      ],
      "metadata": {
        "id": "QKeTQelqovYA"
      }
    },
    {
      "cell_type": "markdown",
      "source": [
        "Explore and analyze the data to discover key findings pertaining to terrorist activities"
      ],
      "metadata": {
        "id": "x8qp-TKeo50j"
      }
    },
    {
      "cell_type": "code",
      "execution_count": null,
      "metadata": {
        "id": "A2Vh10N4omxH"
      },
      "outputs": [],
      "source": [
        "#importing necessery libraries for future analysis of the dataset\n",
        "import numpy as np\n",
        "import pandas as pd\n",
        "import matplotlib.pyplot as plt\n",
        "%matplotlib inline\n",
        "import matplotlib.image as mpimg\n",
        "import seaborn as sns\n",
        "import plotly.express as px"
      ]
    },
    {
      "cell_type": "code",
      "source": [
        "from google.colab import drive\n",
        "drive.mount('/content/drive')"
      ],
      "metadata": {
        "id": "m_pV3esxo-6M",
        "colab": {
          "base_uri": "https://localhost:8080/"
        },
        "outputId": "1f20b47f-05bb-4ed6-c429-e4e028a396f8"
      },
      "execution_count": null,
      "outputs": [
        {
          "output_type": "stream",
          "name": "stdout",
          "text": [
            "Mounted at /content/drive\n"
          ]
        }
      ]
    },
    {
      "cell_type": "code",
      "source": [
        "#ISO/IEC 8859-1 encodes what it refers to as \"Latin alphabet no. 1\"\n",
        "\n",
        "gtd = pd.read_csv('/content/drive/MyDrive/capston project 1/Global Terrorism Data.csv', encoding ='ISO-8859-1')"
      ],
      "metadata": {
        "id": "6uhB7Rw3pEG8",
        "colab": {
          "base_uri": "https://localhost:8080/"
        },
        "outputId": "df467e93-170b-46b4-8db2-46b7d956af8b"
      },
      "execution_count": null,
      "outputs": [
        {
          "output_type": "stream",
          "name": "stderr",
          "text": [
            "/usr/local/lib/python3.7/dist-packages/IPython/core/interactiveshell.py:2882: DtypeWarning: Columns (4,6,31,33,61,62,63,76,79,90,92,94,96,114,115,121) have mixed types.Specify dtype option on import or set low_memory=False.\n",
            "  exec(code_obj, self.user_global_ns, self.user_ns)\n"
          ]
        }
      ]
    },
    {
      "cell_type": "markdown",
      "source": [
        "For given data set, each column is demanding very high memory, pandas tries to determine what dtype to set by analyzing the data in each column."
      ],
      "metadata": {
        "id": "671_utFMpQUu"
      }
    },
    {
      "cell_type": "code",
      "source": [
        "#information about data frame\n",
        "gtd.info()"
      ],
      "metadata": {
        "id": "HH_WPX73pLgD"
      },
      "execution_count": null,
      "outputs": []
    },
    {
      "cell_type": "code",
      "source": [
        "pd.set_option('display.max_columns',None)\n",
        "gtd.head()"
      ],
      "metadata": {
        "id": "4km6FRbSpU4X"
      },
      "execution_count": null,
      "outputs": []
    },
    {
      "cell_type": "code",
      "source": [
        "gtd.shape"
      ],
      "metadata": {
        "id": "4DXPTl-RpYgU"
      },
      "execution_count": null,
      "outputs": []
    },
    {
      "cell_type": "code",
      "source": [
        "gtd.size"
      ],
      "metadata": {
        "id": "pe4HJlSTpeGt"
      },
      "execution_count": null,
      "outputs": []
    },
    {
      "cell_type": "code",
      "source": [
        "gtd.isnull().sum()"
      ],
      "metadata": {
        "id": "8W7lCc_ppe7s"
      },
      "execution_count": null,
      "outputs": []
    },
    {
      "cell_type": "code",
      "source": [
        "# the data set have more than 60% of NAN values so lets drop the unnessary columns by using for loop \n",
        "#column = []\n",
        "#for i in gtd.columns:\n",
        " # if gtd[i].isnull().sum()> 15000:\n",
        " #   column.append(i)\n",
        "#gtd.drop(column,inplace=True,axis=1)"
      ],
      "metadata": {
        "id": "OOwReyZJpj4L"
      },
      "execution_count": null,
      "outputs": []
    },
    {
      "cell_type": "code",
      "source": [
        "\n",
        "gtd.rename(columns={'iyear':'Year','imonth':'Month','iday':\"day\",'gname':'Group','country_txt':'Countrys_','region_txt':'Region',\n",
        "                     'provstate':'State','city':'city','latitude':'latitude','longitude':'longitude','summary':'summary',\n",
        "                     'attacktype1_txt':'Attacktype','targtype1_txt':'Targettype','weaptype1_txt':'Weapon','nkill':'kill',\n",
        "                     'nwound':'wounds'},inplace=True)"
      ],
      "metadata": {
        "id": "x6XYLo11pnSD"
      },
      "execution_count": null,
      "outputs": []
    },
    {
      "cell_type": "code",
      "source": [
        "gtd.head(3)"
      ],
      "metadata": {
        "id": "8jlXLrNhpshO"
      },
      "execution_count": null,
      "outputs": []
    },
    {
      "cell_type": "code",
      "source": [
        "# created a work bench that we need only perform analysis on this data\n",
        "gtd = gtd[['Year','Month','day','Countrys_','State','Region','city','latitude','longitude',\"Attacktype\",'kill',\n",
        "               'target1','Group','Targettype','Weapon','wounds','summary']]\n",
        "gtd.head()"
      ],
      "metadata": {
        "id": "8gxOIoUjpvlP"
      },
      "execution_count": null,
      "outputs": []
    },
    {
      "cell_type": "code",
      "source": [
        "gtd.columns"
      ],
      "metadata": {
        "id": "b_gmkm0Epw69"
      },
      "execution_count": null,
      "outputs": []
    },
    {
      "cell_type": "code",
      "source": [
        "'summary','Wounds'"
      ],
      "metadata": {
        "id": "ZmUUUtn6pz2H"
      },
      "execution_count": null,
      "outputs": []
    },
    {
      "cell_type": "code",
      "source": [
        "gtd.info()"
      ],
      "metadata": {
        "id": "Abd0Utxrp22H"
      },
      "execution_count": null,
      "outputs": []
    },
    {
      "cell_type": "code",
      "source": [
        "gtd.describe()"
      ],
      "metadata": {
        "id": "3RyWS5Oap85f"
      },
      "execution_count": null,
      "outputs": []
    },
    {
      "cell_type": "markdown",
      "source": [
        "# TOP 10 COUNTRIES WHO ARE MOST AFFECTED BY THE TERRORIST"
      ],
      "metadata": {
        "id": "62kkUf6ZqnTx"
      }
    },
    {
      "cell_type": "code",
      "source": [
        "\n",
        "#Which are the top 10 Countries who are most affected by the terrorist attacks\n",
        "print('Country with Highest Terrorist Attacks:\\n',\n",
        "     gtd ['Countrys_'].value_counts().head (10))"
      ],
      "metadata": {
        "id": "yUwhnuaAqAam"
      },
      "execution_count": null,
      "outputs": []
    },
    {
      "cell_type": "code",
      "source": [
        "# city wise attacks\n",
        "city=gtd[\"city\"].value_counts()[1:11]\n",
        "city"
      ],
      "metadata": {
        "id": "FJWgMPkYqvfd"
      },
      "execution_count": null,
      "outputs": []
    },
    {
      "cell_type": "code",
      "source": [
        "# YEAR WISE ATTACKS\n",
        "attacks = gtd[\"Year\"].value_counts(dropna=False).sort_index().to_frame().reset_index().rename(columns={\"index\":\"Year\",\"Year\":\"Attacks\"}).set_index(\"Year\")\n",
        "attacks.head(10)"
      ],
      "metadata": {
        "id": "7THCEnDks1Xo"
      },
      "execution_count": null,
      "outputs": []
    },
    {
      "cell_type": "code",
      "source": [
        "\n",
        "attacks.plot(kind=\"bar\",color=\"black\",figsize=(20,10),fontsize=13)\n",
        "plt.title(\"Timeline of Attacks\",fontsize=15)\n",
        "plt.xlabel(\"year\",fontsize=15)\n",
        "plt.ylabel(\"Number of Attacks\",fontsize=15)\n",
        "plt.show()"
      ],
      "metadata": {
        "id": "89VSQhdHtQS9"
      },
      "execution_count": null,
      "outputs": []
    }
  ]
}